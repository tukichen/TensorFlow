{
 "cells": [
  {
   "cell_type": "markdown",
   "metadata": {},
   "source": [
    "### Motivating problem for TensorFlow\n",
    "- Cost function $J(w) = w^2 - 10w + 25 = (w-5)^2$, which will be minimized at $w=5$"
   ]
  },
  {
   "cell_type": "code",
   "execution_count": 2,
   "metadata": {},
   "outputs": [],
   "source": [
    "# Import packages\n",
    "import numpy as np\n",
    "import tensorflow as tf"
   ]
  },
  {
   "cell_type": "code",
   "execution_count": 15,
   "metadata": {},
   "outputs": [
    {
     "name": "stdout",
     "output_type": "stream",
     "text": [
      "0.0\n"
     ]
    }
   ],
   "source": [
    "# Define parameter w:\n",
    "w = tf.Variable(0, dtype= tf.float32)\n",
    "\n",
    "#Define training data $X$: - Inserts a placeholder for a tensor that will be always fed.\n",
    "# placeholder is a value to assign later\n",
    "x = tf.placeholder( dtype = tf.float32, shape= [3,1])\n",
    "# data to plug into X\n",
    "coefficients = np.array([[1.], [-10.], [25.]])\n",
    "\n",
    "# Define cost function $J(w) = w^2 - 10w + 25 = (w-5)^2$.\n",
    "# - Only need to implement forward propagation, tensorflow will know how to implement backward propagation.\n",
    "#cost = tf.add(tf.add(w**2, tf.multiply(-10.,w)), 25)\n",
    "#cost = w**2 -10*w + 25\n",
    "cost = x[0][0]*w**2 + x[1][0]*w + x[2][0]\n",
    "\n",
    "# Define an optimizer that implements the gradient descent algorithm.\n",
    "# ? tf.train.GradientDescentOptimizer\n",
    "train = tf.train.GradientDescentOptimizer( learning_rate= 0.01).minimize(cost)\n",
    "\n",
    "init = tf.global_variables_initializer()\n",
    "session = tf.Session()\n",
    "session.run(init)\n",
    "session.run(w)\n",
    "print(session.run(w))"
   ]
  },
  {
   "cell_type": "code",
   "execution_count": 16,
   "metadata": {},
   "outputs": [
    {
     "name": "stdout",
     "output_type": "stream",
     "text": [
      "0.1\n"
     ]
    }
   ],
   "source": [
    "# Run one step of gradient descent and print\n",
    "session.run(train, feed_dict = {x: coefficients}) # feed data into x\n",
    "print(session.run(w))"
   ]
  },
  {
   "cell_type": "code",
   "execution_count": 17,
   "metadata": {},
   "outputs": [
    {
     "name": "stdout",
     "output_type": "stream",
     "text": [
      "4.99999\n"
     ]
    }
   ],
   "source": [
    "# run 1000 iterations of gradient descent:\n",
    "for i in range(1000):\n",
    "    session.run(train, feed_dict = {x: coefficients})\n",
    "print(session.run(w))    "
   ]
  }
 ],
 "metadata": {
  "kernelspec": {
   "display_name": "Python 3",
   "language": "python",
   "name": "python3"
  },
  "language_info": {
   "codemirror_mode": {
    "name": "ipython",
    "version": 3
   },
   "file_extension": ".py",
   "mimetype": "text/x-python",
   "name": "python",
   "nbconvert_exporter": "python",
   "pygments_lexer": "ipython3",
   "version": "3.6.2"
  }
 },
 "nbformat": 4,
 "nbformat_minor": 2
}
